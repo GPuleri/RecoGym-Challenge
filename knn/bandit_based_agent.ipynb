{
 "cells": [
  {
   "cell_type": "markdown",
   "metadata": {},
   "source": [
    "# RecoGym Bandit Based Popularity Agents"
   ]
  },
  {
   "cell_type": "markdown",
   "metadata": {},
   "source": [
    "Action dict:\n",
    "```\n",
    "t    = time\n",
    "u    = user\n",
    "a    = action (int representing product in range(0, num_products) )\n",
    "ps   = 1 / num_products\n",
    "ps-a = array of probabilities (floats [0, 1]), 1 for every product\n",
    "```"
   ]
  },
  {
   "cell_type": "markdown",
   "metadata": {},
   "source": [
    "## BanditAgentA - Reinforcement like\n",
    "Every product starts with uniform probability of getting recommended. \n",
    "\n",
    "1. Whenever a product is clicked, this probability increases significantly. (= reward)\n",
    "2. Whenever a product is shown but not clicked, this probability decreases slightly. (= punishment)\n",
    "\n",
    "Since multipliers are used, the second click on a product is rewarded more than the 1st click (assuming the first click brought it above uniform probability) Likewise, additional punishments will get smaller and smaller in absolute numbers."
   ]
  },
  {
   "cell_type": "code",
   "execution_count": 2,
   "metadata": {},
   "outputs": [
    {
     "name": "stderr",
     "output_type": "stream",
     "text": [
      "/home/alp/.local/lib/python3.6/site-packages/recogym/agents/__init__.py:32: UserWarning: Agents Bandit MF Square, Organic MF Square and NN IPS are not available since torch cannot be imported. Install it with `pip install torch` and test it with `python -c \"import torch\"`\n",
      "  warnings.warn('Agents Bandit MF Square, Organic MF Square and NN IPS are not available '\n"
     ]
    }
   ],
   "source": [
    "import numpy as np\n",
    "from random import choices\n",
    "from recogym.agents import Agent\n",
    "\n",
    "# Define an Agent class.\n",
    "class BanditAgentA(Agent):\n",
    "    def __init__(self, config):\n",
    "        # Set number of products as an attribute of the Agent.\n",
    "        super(BanditAgentA, self).__init__(config)\n",
    "\n",
    "        self.product_weights = np.ones(self.config.num_products)\n",
    "        self.factor_reward = 1.99\n",
    "        self.factor_punish = 1.01\n",
    "\n",
    "\n",
    "    def train(self, observation, action, reward, done):\n",
    "        \"\"\"Train method learns from a tuple of data.\n",
    "            this method can be called for offline or online learning\"\"\"\n",
    "\n",
    "        # Reward good bandits, punish bad ones\n",
    "        # This is identical to: \n",
    "        # 1 * 1.99**clicks * 1.01**-(views - clicks)\n",
    "        if reward:\n",
    "            if reward == 1:\n",
    "                # Reward clicks\n",
    "                self.product_weights[action['a']] *= self.factor_reward\n",
    "            else:\n",
    "                # Punish views without click\n",
    "                self.product_weights[action['a']] /= self.factor_punish\n",
    "\n",
    "            \n",
    "    def act(self, observation, reward, done):\n",
    "        \"\"\"Act method returns an action based on current observation and past\n",
    "            history\"\"\"\n",
    "\n",
    "        # Choosing action randomly in proportion to bandit feedback\n",
    "        action = choices(range(self.config.num_products), weights=self.product_weights, k=1).pop()\n",
    "\n",
    "        return {\n",
    "            **super().act(observation, reward, done),\n",
    "            **{\n",
    "                'a': action,\n",
    "                'ps': self.product_weights[action] / sum(self.product_weights),\n",
    "                'ps-a': self.product_weights / sum(self.product_weights)\n",
    "            }\n",
    "        }"
   ]
  },
  {
   "cell_type": "markdown",
   "metadata": {},
   "source": [
    "## BanditAgentB - Click-through rate based\n",
    "Recommends based on frequency clicked vs frequency shown with a minimum (average) probability for those products that have never been shown. The \"average\" used is the median CTR of the RandomAgent. (~ 1.1450%)"
   ]
  },
  {
   "cell_type": "code",
   "execution_count": 1,
   "metadata": {},
   "outputs": [
    {
     "ename": "ModuleNotFoundError",
     "evalue": "No module named 'recogym'",
     "output_type": "error",
     "traceback": [
      "\u001b[0;31m---------------------------------------------------------------------------\u001b[0m",
      "\u001b[0;31mModuleNotFoundError\u001b[0m                       Traceback (most recent call last)",
      "\u001b[0;32m<ipython-input-1-c55c4afc5b47>\u001b[0m in \u001b[0;36m<module>\u001b[0;34m()\u001b[0m\n\u001b[1;32m      2\u001b[0m \u001b[0;31m#from numpy.random import choice\u001b[0m\u001b[0;34m\u001b[0m\u001b[0;34m\u001b[0m\u001b[0;34m\u001b[0m\u001b[0m\n\u001b[1;32m      3\u001b[0m \u001b[0;32mfrom\u001b[0m \u001b[0mrandom\u001b[0m \u001b[0;32mimport\u001b[0m \u001b[0mchoices\u001b[0m\u001b[0;34m\u001b[0m\u001b[0;34m\u001b[0m\u001b[0m\n\u001b[0;32m----> 4\u001b[0;31m \u001b[0;32mfrom\u001b[0m \u001b[0mrecogym\u001b[0m\u001b[0;34m.\u001b[0m\u001b[0magents\u001b[0m \u001b[0;32mimport\u001b[0m \u001b[0mAgent\u001b[0m\u001b[0;34m\u001b[0m\u001b[0;34m\u001b[0m\u001b[0m\n\u001b[0m\u001b[1;32m      5\u001b[0m \u001b[0;34m\u001b[0m\u001b[0m\n\u001b[1;32m      6\u001b[0m \u001b[0;31m# Define an Agent class.\u001b[0m\u001b[0;34m\u001b[0m\u001b[0;34m\u001b[0m\u001b[0;34m\u001b[0m\u001b[0m\n",
      "\u001b[0;31mModuleNotFoundError\u001b[0m: No module named 'recogym'"
     ]
    }
   ],
   "source": [
    "import numpy as np\n",
    "#from numpy.random import choice\n",
    "from random import choices\n",
    "from recogym.agents import Agent\n",
    "\n",
    "# Define an Agent class.\n",
    "class BanditAgentB(Agent):\n",
    "    def __init__(self, config):\n",
    "        # Set number of products as an attribute of the Agent.\n",
    "        super(BanditAgentB, self).__init__(config)\n",
    "        \n",
    "        # Array: for every product store [# times viewed, #times clicked]\n",
    "        self.bandit_stats = np.zeros((self.config.num_products, 2), dtype=int)\n",
    "\n",
    "\n",
    "    def train(self, observation, action, reward, done):\n",
    "        \"\"\"Train method learns from a tuple of data.\n",
    "            this method can be called for offline or online learning\"\"\"\n",
    "        # Store bandit stats if not organic\n",
    "        if reward:\n",
    "            # If there is not None, there was a view\n",
    "            self.bandit_stats[action['a']][0] += 1\n",
    "            \n",
    "            # If reward == 1, there was a click\n",
    "            self.bandit_stats[action['a']][1] += reward\n",
    "\n",
    "            \n",
    "    def act(self, observation, reward, done):\n",
    "        \"\"\"Act method returns an action based on current observation and past\n",
    "            history\"\"\"\n",
    "\n",
    "        # Transform stats into a click-through ratio (CTR) and make a recommendation where products with a\n",
    "        # higher CTR also have a higher probability to get recommended.\n",
    "        ctrs = [(0.011450 if views == 0 else clicks/views) for views,clicks in self.bandit_stats]\n",
    "        \n",
    "        # Recommend randomly, the higher the clicks/views ratio \n",
    "        action = choices(range(self.config.num_products), weights=ctrs, k=1).pop()\n",
    "\n",
    "        return {\n",
    "            **super().act(observation, reward, done),\n",
    "            **{\n",
    "                'a': action,\n",
    "                'ps': ctrs[action] / sum(ctrs),\n",
    "                'ps-a': ctrs / sum(ctrs)\n",
    "            }\n",
    "        }"
   ]
  },
  {
   "cell_type": "markdown",
   "metadata": {},
   "source": [
    "## Bandit Agent - Keeps track of number of clicks and recommendations"
   ]
  },
  {
   "cell_type": "markdown",
   "metadata": {},
   "source": [
    "An agent that for each prodcut keeps track of number of recommendations and the number of clicks obtained. Recommendations are made based on thresholds for number of recommendations and number of clicks."
   ]
  },
  {
   "cell_type": "code",
   "execution_count": 17,
   "metadata": {},
   "outputs": [],
   "source": [
    "class BanditAgentRecFreq(Agent):\n",
    "    def __init__(self, config):\n",
    "        # Set number of products as an attribute of the Agent.\n",
    "        super(BanditAgentRecFreq, self).__init__(config)\n",
    "\n",
    "        self.product_weights = np.ones(self.config.num_products)\n",
    "        self.recommend_freq = np.zeros((self.config.num_products, 2))\n",
    "        self.factor_reward = 1.99\n",
    "        self.factor_punish = 1.01\n",
    "\n",
    "    def train(self, observation, action, reward, done):\n",
    "        \"\"\"Train method learns from a tuple of data.\n",
    "            this method can be called for offline or online learning\"\"\"\n",
    "        if action:\n",
    "            self.recommend_freq[action[\"a\"]][0] += 1\n",
    "            \n",
    "        # Reward good bandits, punish bad ones\n",
    "        if reward:\n",
    "            if reward == 1:\n",
    "                self.product_weights[action[\"a\"]] *= self.factor_reward\n",
    "                self.recommend_freq[action[\"a\"]][1] += 1\n",
    "            else:\n",
    "                self.product_weights[action[\"a\"]] /= self.factor_punish\n",
    "\n",
    "            \n",
    "    def act(self, observation, reward, done):\n",
    "        \"\"\"Act method returns an action based on current observation and past\n",
    "            history\"\"\"\n",
    "\n",
    "        # Choosing action randomly in proportion to bandit feedback\n",
    "        action = choices(range(self.config.num_products), weights=self.product_weights, k=1).pop()\n",
    "        \n",
    "        recommend_freq_med = np.median(self.recommend_freq, axis=0)[0] #Threshold for number of recommendations\n",
    "        num_click_med = np.median(self.recommend_freq, axis=0)[1] #Threshold for number of clicks\n",
    "        \n",
    "        if self.recommend_freq[action][0] > recommend_freq_med and self.recommend_freq[action][1] < num_click_med:\n",
    "            self.product_weights[action] = 1\n",
    "            action = choices(range(self.config.num_products), weights=self.product_weights, k=1).pop()\n",
    "        \n",
    "        return {\n",
    "            **super().act(observation, reward, done),\n",
    "            **{\n",
    "                'a': action,\n",
    "                'ps': self.product_weights[action] / sum(self.product_weights),\n",
    "                'ps-a': self.product_weights / sum(self.product_weights)\n",
    "            }\n",
    "        }"
   ]
  },
  {
   "cell_type": "markdown",
   "metadata": {},
   "source": [
    "## Training the agents"
   ]
  },
  {
   "cell_type": "code",
   "execution_count": 18,
   "metadata": {},
   "outputs": [
    {
     "name": "stdout",
     "output_type": "stream",
     "text": [
      "Training with 1000 users\n"
     ]
    }
   ],
   "source": [
    "import gym, recogym\n",
    "from recogym import env_1_args, Configuration\n",
    "from copy import deepcopy\n",
    "from recogym.evaluate_agent import verify_agents, plot_verify_agents\n",
    "\n",
    "env_1_args['random_seed'] = 42\n",
    "\n",
    "env = gym.make('reco-gym-v1')\n",
    "env.init_gym(env_1_args)\n",
    "\n",
    "# Import the random agent.\n",
    "from recogym.agents import RandomAgent, random_args\n",
    "\n",
    "# Create the two agents.\n",
    "num_products = env_1_args['num_products']\n",
    "bandit_agent_a = BanditAgentA(Configuration(env_1_args))\n",
    "bandit_agent_b = BanditAgentB(Configuration(env_1_args))\n",
    "bandit_agent_rec = BanditAgentRecFreq(Configuration(env_1_args))\n",
    "random_agent = RandomAgent(Configuration({\n",
    "    **env_1_args,\n",
    "    **random_args,\n",
    "}))\n",
    "\n",
    "# Train the bandit agent\n",
    "num_offline_users = 1000\n",
    "num_online_users = 1000\n",
    "print(f'Training with {num_offline_users} users')\n",
    "for useri in range(num_offline_users):\n",
    "\n",
    "    # Reset env and set done to False.\n",
    "    env.reset()\n",
    "    done = False\n",
    "\n",
    "    observation, reward, done = None, 0, False\n",
    "    while not done:\n",
    "        old_observation = observation\n",
    "        action, observation, reward, done, info = env.step_offline(observation, reward, done)\n",
    "        bandit_agent_a.train(old_observation, action, reward, done)\n",
    "        bandit_agent_b.train(old_observation, action, reward, done)\n",
    "        bandit_agent_rec.train(old_observation, action, reward, done)"
   ]
  },
  {
   "cell_type": "markdown",
   "metadata": {},
   "source": [
    "## Testing Agent Performance"
   ]
  },
  {
   "cell_type": "code",
   "execution_count": 19,
   "metadata": {},
   "outputs": [
    {
     "name": "stdout",
     "output_type": "stream",
     "text": [
      "                  Agent     0.025     0.500     0.975\n",
      "0            CTR Bandit  0.011072  0.011804  0.012567\n",
      "1  Reinforcement Bandit  0.014033  0.014865  0.015729\n",
      "2          Random agent  0.010818  0.011548  0.012311\n",
      "3  Recommendation based  0.014020  0.014852  0.015716\n"
     ]
    }
   ],
   "source": [
    "# Verify the agents\n",
    "env_1_args['random_seed'] = 42\n",
    "new_env = gym.make('reco-gym-v1')\n",
    "new_env.init_gym(env_1_args)\n",
    "result = verify_agents(new_env,\n",
    "                       num_online_users,\n",
    "                       {\n",
    "                           'CTR Bandit': bandit_agent_b,\n",
    "                           'Reinforcement Bandit': bandit_agent_a,\n",
    "                           'Random agent': random_agent,\n",
    "                           'Recommendation based': bandit_agent_rec\n",
    "                       })\n",
    "print(result)"
   ]
  },
  {
   "cell_type": "code",
   "execution_count": 20,
   "metadata": {
    "scrolled": true
   },
   "outputs": [
    {
     "data": {
      "image/png": "[encoded data removed]",
      "text/plain": [
       "<Figure size 432x288 with 1 Axes>"
      ]
     },
     "metadata": {
      "needs_background": "light"
     },
     "output_type": "display_data"
    }
   ],
   "source": [
    "import matplotlib.pyplot as plt\n",
    "fig = plot_verify_agents(result)\n",
    "plt.show()"
   ]
  },
  {
   "cell_type": "markdown",
   "metadata": {},
   "source": [
    "# Older work (tests, tuning, ...)"
   ]
  },
  {
   "cell_type": "markdown",
   "metadata": {},
   "source": [
    "### Results (manual)\n",
    "reward - punishment - scores\n",
    "```\n",
    "1.50 - 1.50 - (0.013994055869064171, 0.013171884239367734, 0.014849254638899079)\n",
    "1.75 - 1.25 - (0.014003945889044578, 0.013182341474947828, 0.0148585063756147)\n",
    "1.99 - 1.01 - (0.014008953966975324, 0.01318705769572728,  0.014863817756372355)\n",
    "1.01 - 1.01 - (0.011521147715471919, 0.010782573106312417, 0.012292302808081579)\n",
    "2.00 - 2.00 - (0.013989690193723066, 0.013168154951966047, 0.014844211295086618)\n",
    "1.50 - 1.00 - (0.013942676922602393, 0.013123122930160163, 0.014795171507556604)\n",
    "1.95 - 1.05 - (0.013978205368534297, 0.01315734006691718,  0.014832030229353088)\n",
    "3.00 - 1.10 - (0.013978205368534297, 0.01315734006691718, 0.014832030229353088)\n",
    "1.98 - 1.01 - (0.01397922984435104, 0.013158685574726737, 0.014832704827731802)\n",
    "```"
   ]
  },
  {
   "cell_type": "markdown",
   "metadata": {},
   "source": [
    "## Hyperparameter tuning (how much to reward / punish)"
   ]
  },
  {
   "cell_type": "code",
   "execution_count": 181,
   "metadata": {},
   "outputs": [
    {
     "name": "stdout",
     "output_type": "stream",
     "text": [
      "Start: Agent Training #0\n",
      "Start: Agent Testing #0\n",
      "End: Agent Testing #0 (17.25397825241089s)\n",
      "Start: Agent Training #0\n",
      "Start: Agent Testing #0\n",
      "End: Agent Testing #0 (19.518059492111206s)\n",
      "Start: Agent Training #0\n",
      "Start: Agent Testing #0\n",
      "End: Agent Testing #0 (19.082467079162598s)\n",
      "Start: Agent Training #0\n",
      "Start: Agent Testing #0\n",
      "End: Agent Testing #0 (18.70867395401001s)\n",
      "Start: Agent Training #0\n",
      "Start: Agent Testing #0\n",
      "End: Agent Testing #0 (19.223085641860962s)\n",
      "Start: Agent Training #0\n",
      "Start: Agent Testing #0\n",
      "End: Agent Testing #0 (19.28720259666443s)\n",
      "Start: Agent Training #0\n",
      "Start: Agent Testing #0\n",
      "End: Agent Testing #0 (18.157710075378418s)\n",
      "Start: Agent Training #0\n",
      "Start: Agent Testing #0\n",
      "End: Agent Testing #0 (17.238532543182373s)\n",
      "Start: Agent Training #0\n",
      "Start: Agent Testing #0\n",
      "End: Agent Testing #0 (17.084410190582275s)\n",
      "Start: Agent Training #0\n",
      "Start: Agent Testing #0\n",
      "End: Agent Testing #0 (17.368014812469482s)\n",
      "Start: Agent Training #0\n",
      "Start: Agent Testing #0\n",
      "End: Agent Testing #0 (17.295707941055298s)\n"
     ]
    }
   ],
   "source": [
    "import gym, recogym\n",
    "from recogym import env_1_args, Configuration\n",
    "from copy import deepcopy\n",
    "\n",
    "env_1_args['random_seed'] = 42\n",
    "env = gym.make('reco-gym-v1')\n",
    "env.init_gym(env_1_args)\n",
    "\n",
    "num_products = env_1_args['num_products']\n",
    "bandit_agent_a = BanditAgentA(Configuration(env_1_args))\n",
    "\n",
    "parameters = [\n",
    "    (1.50, 1.50),\n",
    "    (1.75, 1.25),\n",
    "    (1.99, 1.01),\n",
    "    (1.98, 1.02),\n",
    "    (1.01, 1.01),\n",
    "    (2.00, 2.00),\n",
    "    (1.50, 1.00),\n",
    "    (1.95, 1.05),\n",
    "    (3.00, 1.10),\n",
    "    (5.00, 2.00),\n",
    "    (5.00, 1.00)\n",
    "]\n",
    "results = {}\n",
    "\n",
    "for reward, punish in parameters:\n",
    "    # Set reward & punish parameters\n",
    "    bandit_agent_a.factor_reward = reward\n",
    "    bandit_agent_a.factor_punish = punish\n",
    "    \n",
    "    # Run tests\n",
    "    result = recogym.test_agent(deepcopy(env), deepcopy(bandit_agent_a), 1000, 1000)\n",
    "    results[(reward, punish)] = result"
   ]
  },
  {
   "cell_type": "code",
   "execution_count": 183,
   "metadata": {},
   "outputs": [
    {
     "name": "stdout",
     "output_type": "stream",
     "text": [
      "(1.5, 1.5) - (0.013887907208452902, 0.013069263722806184, 0.014739553504537817)\n",
      "(1.75, 1.25) - (0.014007542089064936, 0.013186108590391916, 0.014861908743926122)\n",
      "(1.99, 1.01) - (0.013978205368534297, 0.01315734006691718, 0.014832030229353088)\n",
      "(1.98, 1.02) - (0.013978205368534297, 0.01315734006691718, 0.014832030229353088)\n",
      "(1.01, 1.01) - (0.011269686199074699, 0.010536946831149873, 0.012035238546886817)\n",
      "(2.0, 2.0) - (0.013978205368534297, 0.01315734006691718, 0.014832030229353088)\n",
      "(1.5, 1.0) - (0.0139457378463552, 0.013125241616100644, 0.014799244346239915)\n",
      "(1.95, 1.05) - (0.013978205368534297, 0.01315734006691718, 0.014832030229353088)\n",
      "(3.0, 1.1) - (0.013978205368534297, 0.01315734006691718, 0.014832030229353088)\n",
      "(5.0, 2.0) - (0.013978205368534297, 0.01315734006691718, 0.014832030229353088)\n",
      "(5.0, 1.0) - (0.013978205368534297, 0.01315734006691718, 0.014832030229353088)\n",
      "\n",
      "Best result (only median is shown):\n",
      "(1.75, 1.25) - 0.014007542089064936\n"
     ]
    }
   ],
   "source": [
    "for k, v in results.items():\n",
    "    print(f'{k} - {v}')\n",
    "\n",
    "best_median = None\n",
    "for m,_,_ in results.values():\n",
    "    if best_median is None or m > best_median:\n",
    "        best_median = m\n",
    "\n",
    "print(\"\\nBest result (only median is shown):\")\n",
    "for k,v in results.items():\n",
    "    if v[0] == best_median:\n",
    "        print(f'{k} - {v[0]}')"
   ]
  }
 ],
 "metadata": {
  "kernelspec": {
   "display_name": "Python 3",
   "language": "python",
   "name": "python3"
  },
  "language_info": {
   "codemirror_mode": {
    "name": "ipython",
    "version": 3
   },
   "file_extension": ".py",
   "mimetype": "text/x-python",
   "name": "python",
   "nbconvert_exporter": "python",
   "pygments_lexer": "ipython3",
   "version": "3.7.3"
  }
 },
 "nbformat": 4,
 "nbformat_minor": 2
}
