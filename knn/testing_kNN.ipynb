{
 "cells": [
  {
   "cell_type": "code",
   "execution_count": 1,
   "metadata": {},
   "outputs": [],
   "source": [
    "import gym, recogym\n",
    "from recogym import env_1_args\n",
    "import matplotlib.pyplot as plt\n",
    "import numpy as np\n",
    "from scipy import spatial\n",
    "from recogym.agents import OrganicUserEventCounterAgent, organic_user_count_args\n",
    "from recogym import Configuration\n",
    "\n",
    "%matplotlib inline\n",
    "\n",
    "%config InlineBackend.figure_format = 'retina'\n",
    "plt.rcParams['figure.figsize'] = [6, 3]\n",
    "\n",
    "num_users =100\n",
    "num_products =10\n",
    "num_samples = 20\n",
    "\n",
    "env_1_args['phi_var']=0.0\n",
    "env_1_args['number_of_flips']=10\n",
    "env_1_args['sigma_mu_organic'] = 2\n",
    "env_1_args['sigma_omega']=0\n",
    "env_1_args['random_seed'] = 42\n",
    "env_1_args['num_products'] = num_products\n",
    "env_1_args['K'] = 5\n",
    "env_1_args['number_of_flips'] = 3\n",
    "env = gym.make('reco-gym-v1')\n",
    "env.init_gym(env_1_args)\n",
    "data = env.generate_logs(num_users)"
   ]
  },
  {
   "cell_type": "markdown",
   "metadata": {},
   "source": [
    "## Testen zonder klasses etc."
   ]
  },
  {
   "cell_type": "markdown",
   "metadata": {},
   "source": [
    "## Creating the agent"
   ]
  },
  {
   "cell_type": "code",
   "execution_count": 19,
   "metadata": {},
   "outputs": [],
   "source": [
    "from numpy.random import choice\n",
    "from recogym.agents import Agent\n",
    "\n",
    "# Define an Agent class.\n",
    "\n",
    "class NearestNeighbourAgent(Agent):\n",
    "    def __init__(self, config):\n",
    "        # Set number of products as an attribute of the Agent.\n",
    "        super(NearestNeighbourAgent, self).__init__(config)\n",
    "\n",
    "        # Track number of times each item viewed in Organic session.\n",
    "        self.M_organic=np.empty((0,self.config.num_products))\n",
    "        \n",
    "        #Track number of times each item viewed in bandit\n",
    "        self.M_bandit_clicks=np.empty((0,self.config.num_products))\n",
    "        self.M_bandit_attempts=np.empty((0,self.config.num_products))\n",
    "        self.weight_organic=0.01\n",
    "        self.weight_bandit=0.99\n",
    "        self.k=5\n",
    "\n",
    "    def train(self, observation, action, reward, done):\n",
    "        \"\"\"Train method learns from a tuple of data.\n",
    "            this method can be called for offline or online learning\"\"\"\n",
    "\n",
    "        # Adding organic session to organic view counts.\n",
    "        print(1)\n",
    "        if not observation:\n",
    "            return\n",
    "        for session in observation.sessions():\n",
    "            if session['z']=='organic':\n",
    "                if session['u']>self.M_organic.shape[0]:\n",
    "                    self.M_organic=np.vstack((self.M_organic, np.zeros((1,self.config.num_products))))\n",
    "                self.M_organic[session['u'],session['v']] += 1\n",
    "            else:\n",
    "                if session['u']>self.M_bandit_clicks.shape[0]:\n",
    "                    self.M_bandit_clicks=np.vstack((self.M_bandit_clicks, np.zeros((1,self.config.num_products))))\n",
    "                if session['c']>0.5:\n",
    "                    self.M_bandit_clicks['u']['a']+=1\n",
    "                if session['u']>self.M_bandit_attempts.shape[0]:\n",
    "                    self.M_bandit_attempts=np.vstack((self.M_bandit_attempts, np.zeros((1,self.config.num_products))))\n",
    "                self.M_bandit_attempts[session['u'],session['a']] += 1\n",
    "                \n",
    "    def find_kNN_organic(self, user_organic):\n",
    "        total_organic=np.sum(self.M_organic, 1)\n",
    "        scaled_organic_M=self.M_organic/total_organic[:,None]\n",
    "        tree = spatial.KDTree(scaled_organic_M)\n",
    "        nearest_neighbours=tree.query(user_organic/sum(user_organic),self.k)\n",
    "        return nearest_neighbours\n",
    "\n",
    "    def pick_best_bandit(self, distances, neighbours):\n",
    "        compl_sigmoid_distances=1-1/(1+np.exp(-distances))\n",
    "        total_organic=np.sum(self.M_organic, 1)\n",
    "        scaled_organic_M=self.M_organic/total_organic[:,None]\n",
    "        M_bandit_CTR=self.M_bandit_clicks/self.M_bandit_attempts\n",
    "        score_items=np.zeros(self.config.num_products)\n",
    "        for j, neighbour in enumerate(neighbours):\n",
    "            #Add to items for organic info\n",
    "            score_items+=self.weight_organic*compl_sigmoid_distances[j]*scaled_organic_M[neighbour,:]\n",
    "\n",
    "            #Add to items for Bandit information\n",
    "            score_items+=self.weight_bandit*self.compl_sigmoid_distances[j]*M_bandit_CTR[neighbour,:]\n",
    "        score_items=score_items/np.sum(score_items)\n",
    "        return score_items\n",
    "\n",
    "    def act(self, observation, reward, done):\n",
    "        \"\"\"Act method returns an action based on current observation and past\n",
    "            history\"\"\"\n",
    "\n",
    "        # Choosing action randomly in proportion with number of views.\n",
    "        for session in observation.sessions():\n",
    "            if session['u'] == 2:\n",
    "                print(session)\n",
    "                break\n",
    "        #distances, neighbours = self.find_kNN_organic(user_organic)\n",
    "        prob = np.zeros((self.config.num_products)) #self.pick_best_bandit(distances, neighbours)\n",
    "        prob[1]=1\n",
    "        action = choice(self.config.num_products, p = prob)\n",
    "\n",
    "        return {\n",
    "            **super().act(observation, reward, done),\n",
    "            **{\n",
    "                'a': action,\n",
    "                'ps': prob[action],\n",
    "                'ps-a': prob\n",
    "            }\n",
    "        }\n",
    "    \n",
    "class GreedySingleActionAgent(Agent):\n",
    "    def __init__(self, preferred_action, config = Configuration({'num_products': 10})):\n",
    "        super(GreedySingleActionAgent, self).__init__(config)\n",
    "        self.preferred_action = preferred_action\n",
    "        \n",
    "    def act(self, observation, reward, done):\n",
    "        prob = np.zeros(self.config.num_products)\n",
    "        prob[self.preferred_action] = 1.\n",
    "        return {\n",
    "            **super().act(observation, reward, done),\n",
    "            **{\n",
    "                'a': self.preferred_action,\n",
    "                'ps': prob[self.preferred_action],\n",
    "                'ps-a': prob,\n",
    "            },\n",
    "        }"
   ]
  },
  {
   "cell_type": "code",
   "execution_count": 20,
   "metadata": {},
   "outputs": [],
   "source": [
    "from datetime import datetime\n",
    "from recogym.evaluate_agent import verify_agents, plot_verify_agents\n",
    "\n",
    "neigbour_agent = NearestNeighbourAgent(Configuration(env_1_args))"
   ]
  },
  {
   "cell_type": "code",
   "execution_count": 21,
   "metadata": {},
   "outputs": [
    {
     "name": "stdout",
     "output_type": "stream",
     "text": [
      "Starting A/B-testing at 2019-10-08 17:20:11.499367\n",
      "{'t': 0, 'u': 2, 'z': 'pageview', 'v': 4}\n",
      "{'t': 27, 'u': 2, 'z': 'pageview', 'v': 4}\n",
      "{'t': 39, 'u': 2, 'z': 'pageview', 'v': 4}\n",
      "{'t': 53, 'u': 2, 'z': 'pageview', 'v': 7}\n",
      "{'t': 69, 'u': 2, 'z': 'pageview', 'v': 4}\n",
      "{'t': 91, 'u': 2, 'z': 'pageview', 'v': 7}\n",
      "{'t': 121, 'u': 2, 'z': 'pageview', 'v': 4}\n",
      "{'t': 146, 'u': 2, 'z': 'pageview', 'v': 3}\n",
      "{'t': 158, 'u': 2, 'z': 'pageview', 'v': 7}\n",
      "{'t': 172, 'u': 2, 'z': 'pageview', 'v': 7}\n",
      "{'t': 191, 'u': 2, 'z': 'pageview', 'v': 5}\n",
      "{'t': 204, 'u': 2, 'z': 'pageview', 'v': 4}\n",
      "Finished A/B-testing at 2019-10-08 17:20:11.947389\n"
     ]
    }
   ],
   "source": [
    "print('Starting A/B-testing at {0}'.format(datetime.now()))\n",
    "result = verify_agents(env,\n",
    "                       number_of_users = 20,\n",
    "                       agents = {\n",
    "                        'Nearest-Neighbour': neigbour_agent\n",
    "                       })\n",
    "print('Finished A/B-testing at {0}'.format(datetime.now()))"
   ]
  },
  {
   "cell_type": "code",
   "execution_count": 5,
   "metadata": {},
   "outputs": [
    {
     "data": {
      "image/png": "[encoded data removed]",
      "text/plain": [
       "<Figure size 432x288 with 1 Axes>"
      ]
     },
     "metadata": {
      "image/png": {
       "height": 349,
       "width": 386
      },
      "needs_background": "light"
     },
     "output_type": "display_data"
    }
   ],
   "source": [
    "fig = plot_verify_agents(result)\n",
    "plt.show()"
   ]
  },
  {
   "cell_type": "code",
   "execution_count": 6,
   "metadata": {},
   "outputs": [],
   "source": [
    "import torch"
   ]
  },
  {
   "cell_type": "code",
   "execution_count": 7,
   "metadata": {},
   "outputs": [],
   "source": [
    "M=np.zeros((2,2))\n",
    "A=np.zeros((2))\n",
    "tree = spatial.KDTree(M)\n",
    "nearest_neighbours=tree.query(A,2)"
   ]
  },
  {
   "cell_type": "code",
   "execution_count": 53,
   "metadata": {},
   "outputs": [
    {
     "data": {
      "text/plain": [
       "(array([0., 0.]), array([0, 1]))"
      ]
     },
     "execution_count": 53,
     "metadata": {},
     "output_type": "execute_result"
    }
   ],
   "source": [
    "nearest_neighbours"
   ]
  },
  {
   "cell_type": "code",
   "execution_count": null,
   "metadata": {},
   "outputs": [],
   "source": []
  }
 ],
 "metadata": {
  "kernelspec": {
   "display_name": "Python 3",
   "language": "python",
   "name": "python3"
  },
  "language_info": {
   "codemirror_mode": {
    "name": "ipython",
    "version": 3
   },
   "file_extension": ".py",
   "mimetype": "text/x-python",
   "name": "python",
   "nbconvert_exporter": "python",
   "pygments_lexer": "ipython3",
   "version": "3.7.0"
  }
 },
 "nbformat": 4,
 "nbformat_minor": 2
}
