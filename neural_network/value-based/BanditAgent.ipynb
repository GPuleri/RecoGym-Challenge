{
 "cells": [
  {
   "cell_type": "code",
   "execution_count": 1,
   "metadata": {},
   "outputs": [],
   "source": [
    "import numpy as np\n",
    "from random import choices\n",
    "from recogym.agents import Agent\n",
    "\n",
    "# Define an Agent class.\n",
    "class BanditAgentA(Agent):\n",
    "    def __init__(self, config):\n",
    "        # Set number of products as an attribute of the Agent.\n",
    "        super(BanditAgentA, self).__init__(config)\n",
    "\n",
    "        self.product_weights = np.ones(self.config.num_products)\n",
    "        self.factor_reward = 1.99\n",
    "        self.factor_punish = 1.01\n",
    "\n",
    "\n",
    "    def train(self, observation, action, reward, done):\n",
    "        \"\"\"Train method learns from a tuple of data.\n",
    "            this method can be called for offline or online learning\"\"\"\n",
    "\n",
    "        # Reward good bandits, punish bad ones\n",
    "        # This is identical to: \n",
    "        # 1 * 1.99**clicks * 1.01**-(views - clicks)\n",
    "        if reward:\n",
    "            if reward == 1:\n",
    "                # Reward clicks\n",
    "                self.product_weights[action['a']] *= self.factor_reward\n",
    "            else:\n",
    "                # Punish views without click\n",
    "                self.product_weights[action['a']] /= self.factor_punish\n",
    "\n",
    "            \n",
    "    def act(self, observation, reward, done):\n",
    "        \"\"\"Act method returns an action based on current observation and past\n",
    "            history\"\"\"\n",
    "\n",
    "        # Choosing action randomly in proportion to bandit feedback\n",
    "        action = choices(range(self.config.num_products), weights=self.product_weights, k=1).pop()\n",
    "\n",
    "        return {\n",
    "            **super().act(observation, reward, done),\n",
    "            **{\n",
    "                'a': action,\n",
    "                'ps': self.product_weights[action] / sum(self.product_weights),\n",
    "                'ps-a': self.product_weights / sum(self.product_weights)\n",
    "            }\n",
    "        }"
   ]
  },
  {
   "cell_type": "code",
   "execution_count": 2,
   "metadata": {},
   "outputs": [],
   "source": [
    "class BanditAgentRecFreq(Agent):\n",
    "    def __init__(self, config):\n",
    "        # Set number of products as an attribute of the Agent.\n",
    "        super(BanditAgentRecFreq, self).__init__(config)\n",
    "\n",
    "        self.product_weights = np.ones(self.config.num_products)\n",
    "        self.recommend_freq = np.zeros((self.config.num_products, 2))\n",
    "        self.factor_reward = 1.99\n",
    "        self.factor_punish = 1.01\n",
    "\n",
    "    def train(self, observation, action, reward, done):\n",
    "        \"\"\"Train method learns from a tuple of data.\n",
    "            this method can be called for offline or online learning\"\"\"\n",
    "        if action:\n",
    "            self.recommend_freq[action[\"a\"]][0] += 1\n",
    "            \n",
    "        # Reward good bandits, punish bad ones\n",
    "        if reward:\n",
    "            if reward == 1:\n",
    "                self.product_weights[action[\"a\"]] *= self.factor_reward\n",
    "                self.recommend_freq[action[\"a\"]][1] += 1\n",
    "            else:\n",
    "                self.product_weights[action[\"a\"]] /= self.factor_punish\n",
    "\n",
    "            \n",
    "    def act(self, observation, reward, done):\n",
    "        \"\"\"Act method returns an action based on current observation and past\n",
    "            history\"\"\"\n",
    "\n",
    "        # Choosing action randomly in proportion to bandit feedback\n",
    "        action = choices(range(self.config.num_products), weights=self.product_weights, k=1).pop()\n",
    "        \n",
    "        recommend_freq_med = np.median(self.recommend_freq, axis=0)[0] #Threshold for number of recommendations\n",
    "        num_click_med = np.median(self.recommend_freq, axis=0)[1] #Threshold for number of clicks\n",
    "        \n",
    "        if self.recommend_freq[action][0] > recommend_freq_med and self.recommend_freq[action][1] < num_click_med:\n",
    "            self.product_weights[action] = 0.5\n",
    "            action = choices(range(self.config.num_products), weights=self.product_weights, k=1).pop()\n",
    "        \n",
    "        return {\n",
    "            **super().act(observation, reward, done),\n",
    "            **{\n",
    "                'a': action,\n",
    "                'ps': self.product_weights[action] / sum(self.product_weights),\n",
    "                'ps-a': self.product_weights / sum(self.product_weights)\n",
    "            }\n",
    "        }"
   ]
  },
  {
   "cell_type": "code",
   "execution_count": 3,
   "metadata": {},
   "outputs": [],
   "source": [
    "import gym, recogym\n",
    "from recogym import env_1_args, Configuration\n",
    "from copy import deepcopy\n",
    "from recogym.evaluate_agent import verify_agents, plot_verify_agents\n",
    "from recogym.agents import RandomAgent, random_args\n",
    "\n",
    "\n",
    "env_1_args['random_seed'] = 42\n",
    "num_products = env_1_args['num_products']\n",
    "\n",
    "env = gym.make('reco-gym-v1')\n",
    "env.init_gym(env_1_args)"
   ]
  },
  {
   "cell_type": "code",
   "execution_count": 4,
   "metadata": {},
   "outputs": [
    {
     "name": "stdout",
     "output_type": "stream",
     "text": [
      "Training with 1000 users\n"
     ]
    }
   ],
   "source": [
    "bandit_agent = BanditAgentA(Configuration(env_1_args))\n",
    "bandit_agent_history = BanditAgentRecFreq(Configuration(env_1_args))\n",
    "random_agent = RandomAgent(Configuration({\n",
    "    **env_1_args,\n",
    "    **random_args,\n",
    "}))\n",
    "\n",
    "num_offline_users = 1000\n",
    "num_online_users = 1000\n",
    "print(f'Training with {num_offline_users} users')\n",
    "for useri in range(num_offline_users):\n",
    "\n",
    "    # Reset env and set done to False.\n",
    "    env.reset()\n",
    "    done = False\n",
    "\n",
    "    observation, reward, done = None, 0, False\n",
    "    while not done:\n",
    "        old_observation = observation\n",
    "        action, observation, reward, done, info = env.step_offline(observation, reward, done)\n",
    "        bandit_agent.train(old_observation, action, reward, done)\n",
    "        bandit_agent_history.train(old_observation, action, reward, done)"
   ]
  },
  {
   "cell_type": "code",
   "execution_count": 5,
   "metadata": {},
   "outputs": [
    {
     "name": "stdout",
     "output_type": "stream",
     "text": [
      "                       Agent     0.025     0.500     0.975\n",
      "0               Bandit Agent  0.013898  0.014732  0.015598\n",
      "1               Random Agent  0.011186  0.011931  0.012708\n",
      "2  Bandit Agent with History  0.013898  0.014732  0.015598\n",
      "<class 'pandas.core.frame.DataFrame'>\n"
     ]
    }
   ],
   "source": [
    "result = verify_agents(env,\n",
    "                       num_online_users,\n",
    "                       {\n",
    "                           'Bandit Agent': bandit_agent,\n",
    "                           'Random Agent': random_agent,\n",
    "                           'Bandit Agent with History': bandit_agent_history\n",
    "                       })\n",
    "print(result)"
   ]
  },
  {
   "cell_type": "code",
   "execution_count": 19,
   "metadata": {},
   "outputs": [
    {
     "data": {
      "image/png": "[encoded data removed]",
      "text/plain": [
       "<Figure size 432x288 with 1 Axes>"
      ]
     },
     "metadata": {
      "needs_background": "light"
     },
     "output_type": "display_data"
    }
   ],
   "source": [
    "import matplotlib.pyplot as plt\n",
    "fig = plot_verify_agents(result)\n",
    "plt.show()"
   ]
  },
  {
   "cell_type": "code",
   "execution_count": null,
   "metadata": {},
   "outputs": [],
   "source": []
  }
 ],
 "metadata": {
  "kernelspec": {
   "display_name": "Python 3",
   "language": "python",
   "name": "python3"
  },
  "language_info": {
   "codemirror_mode": {
    "name": "ipython",
    "version": 3
   },
   "file_extension": ".py",
   "mimetype": "text/x-python",
   "name": "python",
   "nbconvert_exporter": "python",
   "pygments_lexer": "ipython3",
   "version": "3.6.9"
  },
  "pycharm": {
   "stem_cell": {
    "cell_type": "raw",
    "source": [],
    "metadata": {
     "collapsed": false
    }
   }
  }
 },
 "nbformat": 4,
 "nbformat_minor": 2
}